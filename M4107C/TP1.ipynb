{
 "cells": [
  {
   "cell_type": "markdown",
   "metadata": {},
   "source": [
    "## TP1 - Handwritten digit recognition using neural networks and convolutional neural networks\n",
    "\n",
    "**M4108C/M4109C - INFOgr2D**\n",
    "\n",
    "*03/2018*"
   ]
  },
  {
   "cell_type": "markdown",
   "metadata": {
    "collapsed": true
   },
   "source": [
    "### 1. Introduction"
   ]
  },
  {
   "cell_type": "markdown",
   "metadata": {},
   "source": [
    "In this lab, we first design and observe the performance of fully connected neural networks (NNs) as well as convolutional neural networks (CNNs) for digit regconition.  \n",
    "This lab uses the MNIST dataset and Keras implementation with Tensorflow backend.\n",
    "Here are some useful links that may help you during the lab.\n",
    "\n",
    "For NNs\n",
    "- (https://www.learnopencv.com/image-classification-using-feedforward-neural-network-in-keras/)\n",
    "- (https://ankivil.com/mnist-database-and-simple-classification-networks/)\n",
    "\n",
    "For CNNs\n",
    "- (https://sefiks.com/2017/11/05/handwritten-digit-recognition-using-cnn-with-keras/)\n",
    "- (http://adventuresinmachinelearning.com/keras-tutorial-cnn-11-lines/)\n"
   ]
  },
  {
   "cell_type": "markdown",
   "metadata": {},
   "source": [
    "### 2. MNIST dataset"
   ]
  },
  {
   "cell_type": "markdown",
   "metadata": {},
   "source": [
    "1) Load MNIST dataset and show its training and test sizes"
   ]
  },
  {
   "cell_type": "code",
   "execution_count": 1,
   "metadata": {},
   "outputs": [
    {
     "name": "stderr",
     "output_type": "stream",
     "text": [
      "Using TensorFlow backend.\n"
     ]
    }
   ],
   "source": [
    "import numpy as np\n",
    "import keras\n",
    "from keras.datasets import mnist\n",
    "# fix random seed for reproducibility\n",
    "np.random.seed(7)\n"
   ]
  },
  {
   "cell_type": "code",
   "execution_count": 3,
   "metadata": {
    "collapsed": true
   },
   "outputs": [],
   "source": [
    "# load data\n",
    "(x_train,y_train), (x_test,y_test) = mnist.load_data()"
   ]
  },
  {
   "cell_type": "code",
   "execution_count": 4,
   "metadata": {},
   "outputs": [
    {
     "name": "stdout",
     "output_type": "stream",
     "text": [
      "train size :  (60000, 28, 28)\n",
      "test size :  (10000, 28, 28)\n",
      "train label :  (60000,)\n",
      "test label :  (10000,)\n",
      "number of classes: 10\n"
     ]
    }
   ],
   "source": [
    "# show the training size, test size, number of class\n",
    "print(\"train size : \",x_train.shape)\n",
    "print(\"test size : \",x_test.shape)\n",
    "print(\"train label : \",y_train.shape)\n",
    "print(\"test label : \",y_test.shape)\n",
    "nclass = len(np.unique(y_train))\n",
    "print(\"number of classes:\",nclass)"
   ]
  },
  {
   "cell_type": "markdown",
   "metadata": {
    "collapsed": true
   },
   "source": [
    "2) Display some image samples using matplotlib.pyplot"
   ]
  },
  {
   "cell_type": "code",
   "execution_count": 5,
   "metadata": {
    "scrolled": true
   },
   "outputs": [
    {
     "data": {
      "image/png": "[encoded data removed]",
      "text/plain": [
       "<matplotlib.figure.Figure at 0x1215efe80>"
      ]
     },
     "metadata": {},
     "output_type": "display_data"
    }
   ],
   "source": [
    "%matplotlib inline\n",
    "import matplotlib.pyplot as plt\n",
    "# to complete\n",
    "for i in range(0,9):\n",
    "    plt.subplot(3, 3, i+1)\n",
    "    plt.imshow(x_train[i], cmap=plt.get_cmap('gray')); plt.axis('off')"
   ]
  },
  {
   "cell_type": "markdown",
   "metadata": {},
   "source": [
    "3) (If necessary) Reduce the number of training images (for quick training and small-GPU computer)\n",
    " "
   ]
  },
  {
   "cell_type": "code",
   "execution_count": 6,
   "metadata": {},
   "outputs": [
    {
     "name": "stdout",
     "output_type": "stream",
     "text": [
      "train size :  (60000, 28, 28)\n",
      "train label :  (60000,)\n"
     ]
    }
   ],
   "source": [
    "#x_train = x_train[0:30000,:]\n",
    "#y_train = y_train[0:30000]\n",
    "print(\"train size : \",x_train.shape)\n",
    "print(\"train label : \",y_train.shape)"
   ]
  },
  {
   "cell_type": "markdown",
   "metadata": {},
   "source": [
    "### 3. Fully-connected NNs "
   ]
  },
  {
   "cell_type": "markdown",
   "metadata": {},
   "source": [
    "1) Preprocess our data\n",
    "- In order to perform fully-connected NNs, we need to first reshape the image (size of 28x28 pixels) to a 1D array (usingthe reshape function)"
   ]
  },
  {
   "cell_type": "code",
   "execution_count": 7,
   "metadata": {},
   "outputs": [
    {
     "name": "stdout",
     "output_type": "stream",
     "text": [
      "train size :  (60000, 784)\n",
      "test size :  (10000, 784)\n"
     ]
    }
   ],
   "source": [
    "x_train = x_train.reshape(x_train.shape[0], 28*28)\n",
    "x_test = x_test.reshape(x_test.shape[0], 28*28)\n",
    "print(\"train size : \",x_train.shape)\n",
    "print(\"test size : \",x_test.shape)"
   ]
  },
  {
   "cell_type": "markdown",
   "metadata": {},
   "source": [
    "- Convert the data to float and scale the values between 0 to 1\n",
    "- Convert the labels from integer to categorical"
   ]
  },
  {
   "cell_type": "code",
   "execution_count": 9,
   "metadata": {},
   "outputs": [
    {
     "data": {
      "text/plain": [
       "(60000, 10)"
      ]
     },
     "execution_count": 9,
     "metadata": {},
     "output_type": "execute_result"
    }
   ],
   "source": [
    "x_train = x_train.astype('float32')/255\n",
    "x_test = x_test.astype('float32')/255\n",
    "from keras.utils import np_utils\n",
    "y_train_cat = np_utils.to_categorical(y_train, nclass)\n",
    "y_test_cat = np_utils.to_categorical(y_test, nclass)\n",
    "y_train_cat.shape"
   ]
  },
  {
   "cell_type": "markdown",
   "metadata": {},
   "source": [
    "2) Define a 2-layer fully connected NN with 256 neurons for the 1st layer and 512 neurons for the 2nd layer. Use the 'sigmoid' activation function for the 2 network layers and 'softmax' for the final output layer. Show the model summary."
   ]
  },
  {
   "cell_type": "code",
   "execution_count": 10,
   "metadata": {},
   "outputs": [
    {
     "name": "stdout",
     "output_type": "stream",
     "text": [
      "_________________________________________________________________\n",
      "Layer (type)                 Output Shape              Param #   \n",
      "=================================================================\n",
      "dense_1 (Dense)              (None, 256)               200960    \n",
      "_________________________________________________________________\n",
      "dense_2 (Dense)              (None, 512)               131584    \n",
      "_________________________________________________________________\n",
      "dense_3 (Dense)              (None, 10)                5130      \n",
      "=================================================================\n",
      "Total params: 337,674\n",
      "Trainable params: 337,674\n",
      "Non-trainable params: 0\n",
      "_________________________________________________________________\n"
     ]
    }
   ],
   "source": [
    "from keras.models import Sequential\n",
    "from keras.layers.core import Dense, Dropout, Activation\n",
    "from keras.optimizers import RMSprop\n",
    "\n",
    "# define the model\n",
    "model_nn = Sequential()\n",
    "model_nn.add(Dense(256, input_shape=(784,),activation='sigmoid'))\n",
    "model_nn.add(Dense(512, activation='sigmoid'))\n",
    "model_nn.add(Dense(10,activation='softmax')) #Last layer has nclass nodes\n",
    "model_nn.summary()\n",
    "\n"
   ]
  },
  {
   "cell_type": "markdown",
   "metadata": {},
   "source": [
    "3) Compile and train the model. Report the training time"
   ]
  },
  {
   "cell_type": "code",
   "execution_count": 13,
   "metadata": {},
   "outputs": [
    {
     "name": "stdout",
     "output_type": "stream",
     "text": [
      "Epoch 1/20\n",
      "60000/60000 [==============================] - 3s - loss: 0.3378 - acc: 0.8997     \n",
      "Epoch 2/20\n",
      "60000/60000 [==============================] - 3s - loss: 0.3337 - acc: 0.9012     \n",
      "Epoch 3/20\n",
      "60000/60000 [==============================] - 3s - loss: 0.3323 - acc: 0.9018     \n",
      "Epoch 4/20\n",
      "60000/60000 [==============================] - 3s - loss: 0.3302 - acc: 0.9019     \n",
      "Epoch 5/20\n",
      "60000/60000 [==============================] - 3s - loss: 0.3282 - acc: 0.9043     \n",
      "Epoch 6/20\n",
      "60000/60000 [==============================] - 3s - loss: 0.3276 - acc: 0.9033     \n",
      "Epoch 7/20\n",
      "60000/60000 [==============================] - 3s - loss: 0.3266 - acc: 0.9035     \n",
      "Epoch 8/20\n",
      "60000/60000 [==============================] - 3s - loss: 0.3238 - acc: 0.9046     \n",
      "Epoch 9/20\n",
      "60000/60000 [==============================] - 3s - loss: 0.3232 - acc: 0.9057     \n",
      "Epoch 10/20\n",
      "60000/60000 [==============================] - 3s - loss: 0.3218 - acc: 0.9051     \n",
      "Epoch 11/20\n",
      "60000/60000 [==============================] - 3s - loss: 0.3205 - acc: 0.9052     \n",
      "Epoch 12/20\n",
      "60000/60000 [==============================] - 4s - loss: 0.3177 - acc: 0.9061     \n",
      "Epoch 13/20\n",
      "60000/60000 [==============================] - 3s - loss: 0.3180 - acc: 0.9059     \n",
      "Epoch 14/20\n",
      "60000/60000 [==============================] - 3s - loss: 0.3175 - acc: 0.9064     \n",
      "Epoch 15/20\n",
      "60000/60000 [==============================] - 3s - loss: 0.3149 - acc: 0.9071     \n",
      "Epoch 16/20\n",
      "60000/60000 [==============================] - 3s - loss: 0.3131 - acc: 0.9077     \n",
      "Epoch 17/20\n",
      "60000/60000 [==============================] - 3s - loss: 0.3143 - acc: 0.9066     \n",
      "Epoch 18/20\n",
      "60000/60000 [==============================] - 3s - loss: 0.3127 - acc: 0.9083     \n",
      "Epoch 19/20\n",
      "60000/60000 [==============================] - 3s - loss: 0.3103 - acc: 0.9086     \n",
      "Epoch 20/20\n",
      "60000/60000 [==============================] - 3s - loss: 0.3094 - acc: 0.9089     \n",
      "training time : 67.56728291511536\n"
     ]
    }
   ],
   "source": [
    "import time\n",
    "# compile the model\n",
    "model_nn.compile(loss='categorical_crossentropy', optimizer =RMSprop(lr=0.001), metrics=[\"accuracy\"])\n",
    "\n",
    "# train the model\n",
    "start_t_mod= time.time()\n",
    "model_nn.fit(x_train, y_train_cat, batch_size=500, epochs = 20)\n",
    "finish_t_mod = time.time()\n",
    "\n",
    "time = finish_t_mod - start_t_mod\n",
    "print(\"training time :\", time)\n",
    "\n"
   ]
  },
  {
   "cell_type": "markdown",
   "metadata": {},
   "source": [
    "4) test the model"
   ]
  },
  {
   "cell_type": "code",
   "execution_count": 15,
   "metadata": {},
   "outputs": [
    {
     "name": "stdout",
     "output_type": "stream",
     "text": [
      " 9984/10000 [============================>.] - ETA: 0sTest score: 0.290284365565\n",
      "Test accuracy: 0.9137\n"
     ]
    }
   ],
   "source": [
    "# test the model\n",
    "# \n",
    "score = model_nn.evaluate(x_test, y_test_cat)\n",
    "print('Test loss:', score[0])\n",
    "print('Test accuracy:', score[1])"
   ]
  },
  {
   "cell_type": "markdown",
   "metadata": {},
   "source": [
    "### 4. CNNs"
   ]
  },
  {
   "cell_type": "markdown",
   "metadata": {},
   "source": [
    "1) Now, start to design your first CNN (with one CONV layer followed by one MAX-POOLING + 1 FC layer). \n",
    "- CONV layer: 32 filters of size: 5x5, with padding, no stride (stride = 1), activation 'Relu'\n",
    "- MAX-POOLING 2x2\n",
    "- FC layer 128 nodes, activation Relu\n",
    "- Output dense layer with activation 'softmax'\n",
    "(Do not forget your activation function)\n",
    "Report the performance. Show the number of parameters as well as computational time. \n",
    "    "
   ]
  },
  {
   "cell_type": "code",
   "execution_count": 26,
   "metadata": {},
   "outputs": [
    {
     "name": "stdout",
     "output_type": "stream",
     "text": [
      "_________________________________________________________________\n",
      "Layer (type)                 Output Shape              Param #   \n",
      "=================================================================\n",
      "conv2d_9 (Conv2D)            (None, 24, 24, 32)        832       \n",
      "_________________________________________________________________\n",
      "max_pooling2d_9 (MaxPooling2 (None, 12, 12, 32)        0         \n",
      "_________________________________________________________________\n",
      "flatten_8 (Flatten)          (None, 4608)              0         \n",
      "_________________________________________________________________\n",
      "dense_18 (Dense)             (None, 128)               589952    \n",
      "_________________________________________________________________\n",
      "dense_19 (Dense)             (None, 10)                1290      \n",
      "=================================================================\n",
      "Total params: 592,074\n",
      "Trainable params: 592,074\n",
      "Non-trainable params: 0\n",
      "_________________________________________________________________\n"
     ]
    }
   ],
   "source": [
    "from keras.models import Sequential\n",
    "from keras.layers import Conv2D\n",
    "from keras.layers import MaxPooling2D\n",
    "from keras.layers import Dense, Activation, Flatten\n",
    "import time\n",
    "\n",
    "(x_train,y_train), (x_test,y_test) = mnist.load_data()\n",
    "x_train = x_train.reshape(x_train.shape[0],28,28,1)\n",
    "x_test = x_test.reshape(x_test.shape[0],28,28,1)\n",
    "\n",
    "x_train = x_train.astype('float32')/255\n",
    "x_test = x_test.astype('float32')/255\n",
    "y_train_cat = np_utils.to_categorical(y_train, nclass)\n",
    "y_test_cat = np_utils.to_categorical(y_test, nclass)\n",
    "\n",
    "# design the model\n",
    "model_cnn = Sequential()\n",
    "model_cnn.add(Conv2D(32,(5,5),input_shape=(28,28,1), activation='relu'))\n",
    "model_cnn.add(MaxPooling2D(pool_size=(2,2)))\n",
    "model_cnn.add(Flatten())\n",
    "model_cnn.add(Dense(128,activation='relu'))\n",
    "model_cnn.add(Dense(10,activation='softmax'))\n",
    "model_cnn.summary()\n",
    "\n"
   ]
  },
  {
   "cell_type": "code",
   "execution_count": 27,
   "metadata": {},
   "outputs": [
    {
     "name": "stdout",
     "output_type": "stream",
     "text": [
      "Epoch 1/5\n",
      "60000/60000 [==============================] - 34s - loss: 0.1945 - acc: 0.9400    \n",
      "Epoch 2/5\n",
      "60000/60000 [==============================] - 33s - loss: 0.0550 - acc: 0.9832    \n",
      "Epoch 3/5\n",
      "60000/60000 [==============================] - 34s - loss: 0.0370 - acc: 0.9883    \n",
      "Epoch 4/5\n",
      "60000/60000 [==============================] - 34s - loss: 0.0265 - acc: 0.9918    \n",
      "Epoch 5/5\n",
      "60000/60000 [==============================] - 34s - loss: 0.0201 - acc: 0.9939    \n",
      "training time : 171.2156970500946\n"
     ]
    }
   ],
   "source": [
    "# compile the model\n",
    "model_cnn.compile(loss='categorical_crossentropy',metrics=['accuracy'],optimizer=RMSprop(lr=0.001))\n",
    "\n",
    "# train the model\n",
    "start_t= time.time()\n",
    "model_cnn.fit(x_train, y_train_cat, batch_size=128, epochs=5)\n",
    "finish_t = time.time()\n",
    "time_cnn = finish_t - start_t\n",
    "print(\"training time :\", time_cnn)"
   ]
  },
  {
   "cell_type": "code",
   "execution_count": null,
   "metadata": {
    "collapsed": true
   },
   "outputs": [],
   "source": []
  },
  {
   "cell_type": "code",
   "execution_count": 28,
   "metadata": {},
   "outputs": [
    {
     "name": "stdout",
     "output_type": "stream",
     "text": [
      "10000/10000 [==============================] - 2s     \n",
      "Test loss: 0.0337150562087\n",
      "Test accuracy: 0.9892\n"
     ]
    }
   ],
   "source": [
    "# test the model\n",
    "\n",
    "score = model_cnn.evaluate(x_test, y_test_cat)\n",
    "print('Test loss:', score[0])\n",
    "print('Test accuracy:', score[1])\n"
   ]
  },
  {
   "cell_type": "markdown",
   "metadata": {},
   "source": [
    "4) Now, add one more CONV layer followed by on Max pooling. The number of filters and filter size to be chosen by yourself. \n",
    "Report the performance. Report the performance. Show the number of parameters as well as computational time. \n",
    "  "
   ]
  },
  {
   "cell_type": "code",
   "execution_count": null,
   "metadata": {
    "collapsed": true
   },
   "outputs": [],
   "source": [
    "# design new model\n",
    "# design the model\n",
    "model_cnn = Sequential()\n",
    "model_cnn.add(Conv2D(32,(5,5),input_shape=(28,28,1), activation='relu'))\n",
    "model_cnn.add(MaxPooling2D(pool_size=(2,2)))\n",
    "model_cnn.add(Conv2D(32,(5,5), activation='relu'))\n",
    "model_cnn.add(MaxPooling2D(pool_size=(2,2)))\n",
    "model_cnn.add(Flatten())\n",
    "model_cnn.add(Dense(128,activation='relu'))\n",
    "model_cnn.add(Dense(10,activation='softmax'))\n",
    "model_cnn.summary()\n",
    "\n",
    "\n",
    "# compile the model\n",
    "\n",
    "\n",
    "# train the model\n",
    "\n"
   ]
  },
  {
   "cell_type": "code",
   "execution_count": null,
   "metadata": {
    "collapsed": true
   },
   "outputs": [],
   "source": [
    "# test the model\n",
    "\n"
   ]
  },
  {
   "cell_type": "markdown",
   "metadata": {},
   "source": [
    "### 5. CNNs (advanced) "
   ]
  },
  {
   "cell_type": "markdown",
   "metadata": {},
   "source": [
    "Continue to design other CNNs by:\n",
    "- adding more layers (conv layer, FC layer)? \n",
    "- using Batch normalization? \n",
    "- using Dropout? \n",
    "- sing Data augmentation?\n",
    "\n",
    "Report the performance."
   ]
  },
  {
   "cell_type": "code",
   "execution_count": null,
   "metadata": {
    "collapsed": true
   },
   "outputs": [],
   "source": [
    "# Batch normalization\n",
    "from keras.layers import BatchNormalization\n",
    "\n",
    "# Drop out\n",
    "from keras.layers import Dropout\n",
    "\n",
    "# design new model\n",
    "\n"
   ]
  },
  {
   "cell_type": "code",
   "execution_count": null,
   "metadata": {
    "collapsed": true
   },
   "outputs": [],
   "source": []
  }
 ],
 "metadata": {
  "anaconda-cloud": {},
  "kernelspec": {
   "display_name": "Python 3",
   "language": "python",
   "name": "python3"
  },
  "language_info": {
   "codemirror_mode": {
    "name": "ipython",
    "version": 3
   },
   "file_extension": ".py",
   "mimetype": "text/x-python",
   "name": "python",
   "nbconvert_exporter": "python",
   "pygments_lexer": "ipython3",
   "version": "3.6.4"
  }
 },
 "nbformat": 4,
 "nbformat_minor": 2
}
